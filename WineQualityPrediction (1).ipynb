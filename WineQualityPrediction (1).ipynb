{
  "nbformat": 4,
  "nbformat_minor": 0,
  "metadata": {
    "colab": {
      "name": "WineQualityPrediction.ipynb",
      "provenance": [],
      "collapsed_sections": []
    },
    "kernelspec": {
      "name": "python3",
      "display_name": "Python 3"
    }
  },
  "cells": [
    {
      "cell_type": "markdown",
      "metadata": {
        "id": "iynYtVpoX9k8"
      },
      "source": [
        "---\n",
        "Red Wine Quality Prediction\n",
        "---\n",
        "\n",
        "\n",
        "\n",
        "Dataset Description : Use Machine Learning Algorithms to determine which physiochemical properties make a wine 'good'?\n",
        "\n",
        "Steps:\n",
        "\n",
        "\n",
        "\n",
        "(1) Importing Packages\n",
        "\n",
        "(2) Loading Dataset\n",
        "\n",
        "(3) Plotting Graphs\n",
        "\n",
        "(4) Preprocessing dataset\n",
        "\n",
        "(5) Creating ML Model\n",
        "\n",
        "(6) Tuning\n"
      ]
    },
    {
      "cell_type": "code",
      "metadata": {
        "id": "rIEaOrxFXzle"
      },
      "source": [
        "import pandas as pd\n",
        "import numpy as np\n",
        "import matplotlib.pyplot as plt\n",
        "import seaborn as sns\n",
        "\n",
        "from sklearn.model_selection import train_test_split, GridSearchCV,cross_val_score\n",
        "from sklearn.preprocessing import StandardScaler\n",
        "from sklearn.ensemble import RandomForestClassifier\n",
        "from sklearn.svm import SVC\n",
        "from sklearn.metrics import confusion_matrix\n"
      ],
      "execution_count": null,
      "outputs": []
    },
    {
      "cell_type": "markdown",
      "metadata": {
        "id": "jsvrfa1vZ-11"
      },
      "source": [
        "**Loading** **Dataset**"
      ]
    },
    {
      "cell_type": "code",
      "metadata": {
        "colab": {
          "base_uri": "https://localhost:8080/",
          "height": 221
        },
        "id": "ZPh7yPbUY18Q",
        "outputId": "8d725d35-c6b9-4f7f-c786-bf9811fb9aac"
      },
      "source": [
        "wine_df = pd.read_csv(\"winequality-red.csv\",sep=';')\n",
        "print(\"Dataset Shape: \", wine_df.shape)\n",
        "\n",
        "#Checking Data Distribution\n",
        "wine_df.head()"
      ],
      "execution_count": null,
      "outputs": [
        {
          "output_type": "stream",
          "text": [
            "Dataset Shape:  (1599, 12)\n"
          ],
          "name": "stdout"
        },
        {
          "output_type": "execute_result",
          "data": {
            "text/html": [
              "<div>\n",
              "<style scoped>\n",
              "    .dataframe tbody tr th:only-of-type {\n",
              "        vertical-align: middle;\n",
              "    }\n",
              "\n",
              "    .dataframe tbody tr th {\n",
              "        vertical-align: top;\n",
              "    }\n",
              "\n",
              "    .dataframe thead th {\n",
              "        text-align: right;\n",
              "    }\n",
              "</style>\n",
              "<table border=\"1\" class=\"dataframe\">\n",
              "  <thead>\n",
              "    <tr style=\"text-align: right;\">\n",
              "      <th></th>\n",
              "      <th>fixed acidity</th>\n",
              "      <th>volatile acidity</th>\n",
              "      <th>citric acid</th>\n",
              "      <th>residual sugar</th>\n",
              "      <th>chlorides</th>\n",
              "      <th>free sulfur dioxide</th>\n",
              "      <th>total sulfur dioxide</th>\n",
              "      <th>density</th>\n",
              "      <th>pH</th>\n",
              "      <th>sulphates</th>\n",
              "      <th>alcohol</th>\n",
              "      <th>quality</th>\n",
              "    </tr>\n",
              "  </thead>\n",
              "  <tbody>\n",
              "    <tr>\n",
              "      <th>0</th>\n",
              "      <td>7.4</td>\n",
              "      <td>0.70</td>\n",
              "      <td>0.00</td>\n",
              "      <td>1.9</td>\n",
              "      <td>0.076</td>\n",
              "      <td>11.0</td>\n",
              "      <td>34.0</td>\n",
              "      <td>0.9978</td>\n",
              "      <td>3.51</td>\n",
              "      <td>0.56</td>\n",
              "      <td>9.4</td>\n",
              "      <td>5</td>\n",
              "    </tr>\n",
              "    <tr>\n",
              "      <th>1</th>\n",
              "      <td>7.8</td>\n",
              "      <td>0.88</td>\n",
              "      <td>0.00</td>\n",
              "      <td>2.6</td>\n",
              "      <td>0.098</td>\n",
              "      <td>25.0</td>\n",
              "      <td>67.0</td>\n",
              "      <td>0.9968</td>\n",
              "      <td>3.20</td>\n",
              "      <td>0.68</td>\n",
              "      <td>9.8</td>\n",
              "      <td>5</td>\n",
              "    </tr>\n",
              "    <tr>\n",
              "      <th>2</th>\n",
              "      <td>7.8</td>\n",
              "      <td>0.76</td>\n",
              "      <td>0.04</td>\n",
              "      <td>2.3</td>\n",
              "      <td>0.092</td>\n",
              "      <td>15.0</td>\n",
              "      <td>54.0</td>\n",
              "      <td>0.9970</td>\n",
              "      <td>3.26</td>\n",
              "      <td>0.65</td>\n",
              "      <td>9.8</td>\n",
              "      <td>5</td>\n",
              "    </tr>\n",
              "    <tr>\n",
              "      <th>3</th>\n",
              "      <td>11.2</td>\n",
              "      <td>0.28</td>\n",
              "      <td>0.56</td>\n",
              "      <td>1.9</td>\n",
              "      <td>0.075</td>\n",
              "      <td>17.0</td>\n",
              "      <td>60.0</td>\n",
              "      <td>0.9980</td>\n",
              "      <td>3.16</td>\n",
              "      <td>0.58</td>\n",
              "      <td>9.8</td>\n",
              "      <td>6</td>\n",
              "    </tr>\n",
              "    <tr>\n",
              "      <th>4</th>\n",
              "      <td>7.4</td>\n",
              "      <td>0.70</td>\n",
              "      <td>0.00</td>\n",
              "      <td>1.9</td>\n",
              "      <td>0.076</td>\n",
              "      <td>11.0</td>\n",
              "      <td>34.0</td>\n",
              "      <td>0.9978</td>\n",
              "      <td>3.51</td>\n",
              "      <td>0.56</td>\n",
              "      <td>9.4</td>\n",
              "      <td>5</td>\n",
              "    </tr>\n",
              "  </tbody>\n",
              "</table>\n",
              "</div>"
            ],
            "text/plain": [
              "   fixed acidity  volatile acidity  citric acid  ...  sulphates  alcohol  quality\n",
              "0            7.4              0.70         0.00  ...       0.56      9.4        5\n",
              "1            7.8              0.88         0.00  ...       0.68      9.8        5\n",
              "2            7.8              0.76         0.04  ...       0.65      9.8        5\n",
              "3           11.2              0.28         0.56  ...       0.58      9.8        6\n",
              "4            7.4              0.70         0.00  ...       0.56      9.4        5\n",
              "\n",
              "[5 rows x 12 columns]"
            ]
          },
          "metadata": {
            "tags": []
          },
          "execution_count": 3
        }
      ]
    },
    {
      "cell_type": "code",
      "metadata": {
        "colab": {
          "base_uri": "https://localhost:8080/"
        },
        "id": "BtHNtezgb73o",
        "outputId": "365cacb2-3ae7-4afd-eede-b0172205d78a"
      },
      "source": [
        "wine_df.info()"
      ],
      "execution_count": null,
      "outputs": [
        {
          "output_type": "stream",
          "text": [
            "<class 'pandas.core.frame.DataFrame'>\n",
            "RangeIndex: 1599 entries, 0 to 1598\n",
            "Data columns (total 12 columns):\n",
            " #   Column                Non-Null Count  Dtype  \n",
            "---  ------                --------------  -----  \n",
            " 0   fixed acidity         1599 non-null   float64\n",
            " 1   volatile acidity      1599 non-null   float64\n",
            " 2   citric acid           1599 non-null   float64\n",
            " 3   residual sugar        1599 non-null   float64\n",
            " 4   chlorides             1599 non-null   float64\n",
            " 5   free sulfur dioxide   1599 non-null   float64\n",
            " 6   total sulfur dioxide  1599 non-null   float64\n",
            " 7   density               1599 non-null   float64\n",
            " 8   pH                    1599 non-null   float64\n",
            " 9   sulphates             1599 non-null   float64\n",
            " 10  alcohol               1599 non-null   float64\n",
            " 11  quality               1599 non-null   int64  \n",
            "dtypes: float64(11), int64(1)\n",
            "memory usage: 150.0 KB\n"
          ],
          "name": "stdout"
        }
      ]
    },
    {
      "cell_type": "markdown",
      "metadata": {
        "id": "9DfMTXgkfB79"
      },
      "source": [
        "**Plotting Graphs for Better Insights to Data Distribution**"
      ]
    },
    {
      "cell_type": "code",
      "metadata": {
        "colab": {
          "base_uri": "https://localhost:8080/",
          "height": 408
        },
        "id": "fUUaFgLYe-vz",
        "outputId": "59df08cf-394a-45e6-b77f-9c39f4d9ba79"
      },
      "source": [
        "#fixed acidity v/s quality\n",
        "plt.figure(figsize = (10,6))\n",
        "sns.barplot(x = 'quality', y='fixed acidity', data = wine_df)"
      ],
      "execution_count": null,
      "outputs": [
        {
          "output_type": "execute_result",
          "data": {
            "text/plain": [
              "<matplotlib.axes._subplots.AxesSubplot at 0x7f76b5cc71d0>"
            ]
          },
          "metadata": {
            "tags": []
          },
          "execution_count": 6
        },
        {
          "output_type": "display_data",
          "data": {
            "image/png": "[encoded data removed]",
            "text/plain": [
              "<Figure size 720x432 with 1 Axes>"
            ]
          },
          "metadata": {
            "tags": [],
            "needs_background": "light"
          }
        }
      ]
    },
    {
      "cell_type": "code",
      "metadata": {
        "colab": {
          "base_uri": "https://localhost:8080/",
          "height": 405
        },
        "id": "Eu9kvD2if5vI",
        "outputId": "594f5c0d-eb04-49e9-9663-04be0f991b97"
      },
      "source": [
        "#volatile acidity v/s quality\n",
        "plt.figure(figsize = (10,6))\n",
        "sns.barplot(x = 'quality', y='volatile acidity', data = wine_df)"
      ],
      "execution_count": null,
      "outputs": [
        {
          "output_type": "execute_result",
          "data": {
            "text/plain": [
              "<matplotlib.axes._subplots.AxesSubplot at 0x7f76b5699e90>"
            ]
          },
          "metadata": {
            "tags": []
          },
          "execution_count": 7
        },
        {
          "output_type": "display_data",
          "data": {
            "image/png": "[encoded data removed]",
            "text/plain": [
              "<Figure size 720x432 with 1 Axes>"
            ]
          },
          "metadata": {
            "tags": [],
            "needs_background": "light"
          }
        }
      ]
    },
    {
      "cell_type": "markdown",
      "metadata": {
        "id": "g2IdOQawgdDr"
      },
      "source": [
        "####There is a \"decreasing trend\" in the above plot. "
      ]
    },
    {
      "cell_type": "code",
      "metadata": {
        "colab": {
          "base_uri": "https://localhost:8080/",
          "height": 408
        },
        "id": "V5hOUKAVgT20",
        "outputId": "4b570eac-4897-48bf-9f80-a08d18cee934"
      },
      "source": [
        "#citric acid v/s quality\n",
        "plt.figure(figsize = (10,6))\n",
        "sns.barplot(x = 'quality', y='citric acid', data = wine_df)"
      ],
      "execution_count": null,
      "outputs": [
        {
          "output_type": "execute_result",
          "data": {
            "text/plain": [
              "<matplotlib.axes._subplots.AxesSubplot at 0x7f76b56dda90>"
            ]
          },
          "metadata": {
            "tags": []
          },
          "execution_count": 8
        },
        {
          "output_type": "display_data",
          "data": {
            "image/png": "[encoded data removed]",
            "text/plain": [
              "<Figure size 720x432 with 1 Axes>"
            ]
          },
          "metadata": {
            "tags": [],
            "needs_background": "light"
          }
        }
      ]
    },
    {
      "cell_type": "markdown",
      "metadata": {
        "id": "HdsBWYoLg45r"
      },
      "source": [
        "####There is an \"increasing trend\" in the above plot."
      ]
    },
    {
      "cell_type": "code",
      "metadata": {
        "colab": {
          "base_uri": "https://localhost:8080/",
          "height": 405
        },
        "id": "CfJ3x4rwg2tQ",
        "outputId": "2a34d152-f573-449e-d7e2-a182493da3b4"
      },
      "source": [
        "#Residual Sugar v/s quality\n",
        "plt.figure(figsize = (10,6))\n",
        "sns.barplot(x = 'quality', y='residual sugar', data = wine_df)"
      ],
      "execution_count": null,
      "outputs": [
        {
          "output_type": "execute_result",
          "data": {
            "text/plain": [
              "<matplotlib.axes._subplots.AxesSubplot at 0x7f76b50d9890>"
            ]
          },
          "metadata": {
            "tags": []
          },
          "execution_count": 9
        },
        {
          "output_type": "display_data",
          "data": {
            "image/png": "[encoded data removed]",
            "text/plain": [
              "<Figure size 720x432 with 1 Axes>"
            ]
          },
          "metadata": {
            "tags": [],
            "needs_background": "light"
          }
        }
      ]
    },
    {
      "cell_type": "code",
      "metadata": {
        "colab": {
          "base_uri": "https://localhost:8080/",
          "height": 405
        },
        "id": "xOjFUlteh0f1",
        "outputId": "2dad9559-afe4-4e97-868c-fa5eb2ce5345"
      },
      "source": [
        "#chlorides v/s quality\n",
        "plt.figure(figsize = (10,6))\n",
        "sns.barplot(x = 'quality', y='chlorides', data = wine_df)"
      ],
      "execution_count": null,
      "outputs": [
        {
          "output_type": "execute_result",
          "data": {
            "text/plain": [
              "<matplotlib.axes._subplots.AxesSubplot at 0x7f76b5132d50>"
            ]
          },
          "metadata": {
            "tags": []
          },
          "execution_count": 10
        },
        {
          "output_type": "display_data",
          "data": {
            "image/png": "[encoded data removed]",
            "text/plain": [
              "<Figure size 720x432 with 1 Axes>"
            ]
          },
          "metadata": {
            "tags": [],
            "needs_background": "light"
          }
        }
      ]
    },
    {
      "cell_type": "markdown",
      "metadata": {
        "id": "cU1-Trsjmgxs"
      },
      "source": [
        "####There is a \"Decreasing Trend\" in the above plot."
      ]
    },
    {
      "cell_type": "code",
      "metadata": {
        "colab": {
          "base_uri": "https://localhost:8080/",
          "height": 405
        },
        "id": "4kAgBXvdi6Qy",
        "outputId": "4e502261-a477-4663-fff4-36f2ecdfcc41"
      },
      "source": [
        "#free sulfur dioxide v/s quality\n",
        "plt.figure(figsize = (10,6))\n",
        "sns.barplot(x = 'quality', y='free sulfur dioxide', data = wine_df)"
      ],
      "execution_count": null,
      "outputs": [
        {
          "output_type": "execute_result",
          "data": {
            "text/plain": [
              "<matplotlib.axes._subplots.AxesSubplot at 0x7f76b4ff2dd0>"
            ]
          },
          "metadata": {
            "tags": []
          },
          "execution_count": 12
        },
        {
          "output_type": "display_data",
          "data": {
            "image/png": "[encoded data removed]",
            "text/plain": [
              "<Figure size 720x432 with 1 Axes>"
            ]
          },
          "metadata": {
            "tags": [],
            "needs_background": "light"
          }
        }
      ]
    },
    {
      "cell_type": "code",
      "metadata": {
        "colab": {
          "base_uri": "https://localhost:8080/",
          "height": 405
        },
        "id": "gYGFNiA_i6c2",
        "outputId": "67a4ff5f-f797-47d9-e913-0c186e1d73c5"
      },
      "source": [
        "#total sulfur dioxide v/s quality\n",
        "plt.figure(figsize = (10,6))\n",
        "sns.barplot(x = 'quality', y='total sulfur dioxide', data = wine_df)"
      ],
      "execution_count": null,
      "outputs": [
        {
          "output_type": "execute_result",
          "data": {
            "text/plain": [
              "<matplotlib.axes._subplots.AxesSubplot at 0x7f76b4f19a50>"
            ]
          },
          "metadata": {
            "tags": []
          },
          "execution_count": 13
        },
        {
          "output_type": "display_data",
          "data": {
            "image/png": "[encoded data removed]",
            "text/plain": [
              "<Figure size 720x432 with 1 Axes>"
            ]
          },
          "metadata": {
            "tags": [],
            "needs_background": "light"
          }
        }
      ]
    },
    {
      "cell_type": "code",
      "metadata": {
        "colab": {
          "base_uri": "https://localhost:8080/",
          "height": 405
        },
        "id": "NJqllFloi6mo",
        "outputId": "05843dad-da99-44b6-ea71-205a08fbafda"
      },
      "source": [
        "#density v/s quality\n",
        "plt.figure(figsize = (10,6))\n",
        "sns.barplot(x = 'quality', y='density', data = wine_df)"
      ],
      "execution_count": null,
      "outputs": [
        {
          "output_type": "execute_result",
          "data": {
            "text/plain": [
              "<matplotlib.axes._subplots.AxesSubplot at 0x7f76b4e956d0>"
            ]
          },
          "metadata": {
            "tags": []
          },
          "execution_count": 14
        },
        {
          "output_type": "display_data",
          "data": {
            "image/png": "[encoded data removed]",
            "text/plain": [
              "<Figure size 720x432 with 1 Axes>"
            ]
          },
          "metadata": {
            "tags": [],
            "needs_background": "light"
          }
        }
      ]
    },
    {
      "cell_type": "code",
      "metadata": {
        "colab": {
          "base_uri": "https://localhost:8080/",
          "height": 405
        },
        "id": "iuiBRgoii6uY",
        "outputId": "a1b75466-df48-45e3-8754-5fdeb63c3c1a"
      },
      "source": [
        "#pH v/s quality\n",
        "plt.figure(figsize = (10,6))\n",
        "sns.barplot(x = 'quality', y='pH', data = wine_df)"
      ],
      "execution_count": null,
      "outputs": [
        {
          "output_type": "execute_result",
          "data": {
            "text/plain": [
              "<matplotlib.axes._subplots.AxesSubplot at 0x7f76b4e7f590>"
            ]
          },
          "metadata": {
            "tags": []
          },
          "execution_count": 15
        },
        {
          "output_type": "display_data",
          "data": {
            "image/png": "[encoded data removed]",
            "text/plain": [
              "<Figure size 720x432 with 1 Axes>"
            ]
          },
          "metadata": {
            "tags": [],
            "needs_background": "light"
          }
        }
      ]
    },
    {
      "cell_type": "markdown",
      "metadata": {
        "id": "eq_DqLrLnWSP"
      },
      "source": [
        "####There is a \"decreasing trend\" in the above plot."
      ]
    },
    {
      "cell_type": "code",
      "metadata": {
        "colab": {
          "base_uri": "https://localhost:8080/",
          "height": 405
        },
        "id": "j-WYsfi4i62Q",
        "outputId": "e493e7ef-c062-4868-c87c-67ecd6f1a197"
      },
      "source": [
        "#sulphates v/s quality\n",
        "plt.figure(figsize = (10,6))\n",
        "sns.barplot(x = 'quality', y='sulphates', data = wine_df)"
      ],
      "execution_count": null,
      "outputs": [
        {
          "output_type": "execute_result",
          "data": {
            "text/plain": [
              "<matplotlib.axes._subplots.AxesSubplot at 0x7f76b4e028d0>"
            ]
          },
          "metadata": {
            "tags": []
          },
          "execution_count": 16
        },
        {
          "output_type": "display_data",
          "data": {
            "image/png": "[encoded data removed]",
            "text/plain": [
              "<Figure size 720x432 with 1 Axes>"
            ]
          },
          "metadata": {
            "tags": [],
            "needs_background": "light"
          }
        }
      ]
    },
    {
      "cell_type": "markdown",
      "metadata": {
        "id": "aJrWFk7imth6"
      },
      "source": [
        "####There is an \"Increasing Trend\" in the above plot."
      ]
    },
    {
      "cell_type": "code",
      "metadata": {
        "colab": {
          "base_uri": "https://localhost:8080/",
          "height": 405
        },
        "id": "4NuoPjSyi7AG",
        "outputId": "f9fb6d27-40ec-4825-bbc6-60d638379c2b"
      },
      "source": [
        "#alcohol v/s quality\n",
        "plt.figure(figsize = (10,6))\n",
        "sns.barplot(x = 'quality', y='alcohol', data = wine_df)"
      ],
      "execution_count": null,
      "outputs": [
        {
          "output_type": "execute_result",
          "data": {
            "text/plain": [
              "<matplotlib.axes._subplots.AxesSubplot at 0x7f76b4d223d0>"
            ]
          },
          "metadata": {
            "tags": []
          },
          "execution_count": 17
        },
        {
          "output_type": "display_data",
          "data": {
            "image/png": "[encoded data removed]",
            "text/plain": [
              "<Figure size 720x432 with 1 Axes>"
            ]
          },
          "metadata": {
            "tags": [],
            "needs_background": "light"
          }
        }
      ]
    },
    {
      "cell_type": "markdown",
      "metadata": {
        "id": "3-uVWYb5m_rh"
      },
      "source": [
        "####There is an \"increasing Trend\" in the above plot."
      ]
    },
    {
      "cell_type": "markdown",
      "metadata": {
        "id": "xB4kDlj5nwva"
      },
      "source": [
        "**PRE-PROCESSING DATA FOR ML ALGORITHM**"
      ]
    },
    {
      "cell_type": "code",
      "metadata": {
        "colab": {
          "base_uri": "https://localhost:8080/"
        },
        "id": "LNGTC0PZi7KN",
        "outputId": "0626d869-c4a7-4990-b7df-a0e3872c4bd0"
      },
      "source": [
        "wine_df['quality'].value_counts()"
      ],
      "execution_count": null,
      "outputs": [
        {
          "output_type": "execute_result",
          "data": {
            "text/plain": [
              "5    681\n",
              "6    638\n",
              "7    199\n",
              "4     53\n",
              "8     18\n",
              "3     10\n",
              "Name: quality, dtype: int64"
            ]
          },
          "metadata": {
            "tags": []
          },
          "execution_count": 18
        }
      ]
    },
    {
      "cell_type": "code",
      "metadata": {
        "colab": {
          "base_uri": "https://localhost:8080/",
          "height": 204
        },
        "id": "y0cm7lLuoKPs",
        "outputId": "713d2331-397e-49ec-b8c7-cb4437380b43"
      },
      "source": [
        "#Classifying the wine quality as good or bad based on its quality\n",
        "#\"Bad\" or 0 if quality of wine lies in the range(3,6){inclusive}\n",
        "#\"Good\" or 1 if quality of wine lies in the range(7,8){inclusive}\n",
        "\n",
        "wine_df['quality'] = wine_df['quality'].apply(lambda x: 1if x > 6.5 else 0)\n",
        "wine_df.head()\n"
      ],
      "execution_count": null,
      "outputs": [
        {
          "output_type": "execute_result",
          "data": {
            "text/html": [
              "<div>\n",
              "<style scoped>\n",
              "    .dataframe tbody tr th:only-of-type {\n",
              "        vertical-align: middle;\n",
              "    }\n",
              "\n",
              "    .dataframe tbody tr th {\n",
              "        vertical-align: top;\n",
              "    }\n",
              "\n",
              "    .dataframe thead th {\n",
              "        text-align: right;\n",
              "    }\n",
              "</style>\n",
              "<table border=\"1\" class=\"dataframe\">\n",
              "  <thead>\n",
              "    <tr style=\"text-align: right;\">\n",
              "      <th></th>\n",
              "      <th>fixed acidity</th>\n",
              "      <th>volatile acidity</th>\n",
              "      <th>citric acid</th>\n",
              "      <th>residual sugar</th>\n",
              "      <th>chlorides</th>\n",
              "      <th>free sulfur dioxide</th>\n",
              "      <th>total sulfur dioxide</th>\n",
              "      <th>density</th>\n",
              "      <th>pH</th>\n",
              "      <th>sulphates</th>\n",
              "      <th>alcohol</th>\n",
              "      <th>quality</th>\n",
              "    </tr>\n",
              "  </thead>\n",
              "  <tbody>\n",
              "    <tr>\n",
              "      <th>0</th>\n",
              "      <td>7.4</td>\n",
              "      <td>0.70</td>\n",
              "      <td>0.00</td>\n",
              "      <td>1.9</td>\n",
              "      <td>0.076</td>\n",
              "      <td>11.0</td>\n",
              "      <td>34.0</td>\n",
              "      <td>0.9978</td>\n",
              "      <td>3.51</td>\n",
              "      <td>0.56</td>\n",
              "      <td>9.4</td>\n",
              "      <td>0</td>\n",
              "    </tr>\n",
              "    <tr>\n",
              "      <th>1</th>\n",
              "      <td>7.8</td>\n",
              "      <td>0.88</td>\n",
              "      <td>0.00</td>\n",
              "      <td>2.6</td>\n",
              "      <td>0.098</td>\n",
              "      <td>25.0</td>\n",
              "      <td>67.0</td>\n",
              "      <td>0.9968</td>\n",
              "      <td>3.20</td>\n",
              "      <td>0.68</td>\n",
              "      <td>9.8</td>\n",
              "      <td>0</td>\n",
              "    </tr>\n",
              "    <tr>\n",
              "      <th>2</th>\n",
              "      <td>7.8</td>\n",
              "      <td>0.76</td>\n",
              "      <td>0.04</td>\n",
              "      <td>2.3</td>\n",
              "      <td>0.092</td>\n",
              "      <td>15.0</td>\n",
              "      <td>54.0</td>\n",
              "      <td>0.9970</td>\n",
              "      <td>3.26</td>\n",
              "      <td>0.65</td>\n",
              "      <td>9.8</td>\n",
              "      <td>0</td>\n",
              "    </tr>\n",
              "    <tr>\n",
              "      <th>3</th>\n",
              "      <td>11.2</td>\n",
              "      <td>0.28</td>\n",
              "      <td>0.56</td>\n",
              "      <td>1.9</td>\n",
              "      <td>0.075</td>\n",
              "      <td>17.0</td>\n",
              "      <td>60.0</td>\n",
              "      <td>0.9980</td>\n",
              "      <td>3.16</td>\n",
              "      <td>0.58</td>\n",
              "      <td>9.8</td>\n",
              "      <td>0</td>\n",
              "    </tr>\n",
              "    <tr>\n",
              "      <th>4</th>\n",
              "      <td>7.4</td>\n",
              "      <td>0.70</td>\n",
              "      <td>0.00</td>\n",
              "      <td>1.9</td>\n",
              "      <td>0.076</td>\n",
              "      <td>11.0</td>\n",
              "      <td>34.0</td>\n",
              "      <td>0.9978</td>\n",
              "      <td>3.51</td>\n",
              "      <td>0.56</td>\n",
              "      <td>9.4</td>\n",
              "      <td>0</td>\n",
              "    </tr>\n",
              "  </tbody>\n",
              "</table>\n",
              "</div>"
            ],
            "text/plain": [
              "   fixed acidity  volatile acidity  citric acid  ...  sulphates  alcohol  quality\n",
              "0            7.4              0.70         0.00  ...       0.56      9.4        0\n",
              "1            7.8              0.88         0.00  ...       0.68      9.8        0\n",
              "2            7.8              0.76         0.04  ...       0.65      9.8        0\n",
              "3           11.2              0.28         0.56  ...       0.58      9.8        0\n",
              "4            7.4              0.70         0.00  ...       0.56      9.4        0\n",
              "\n",
              "[5 rows x 12 columns]"
            ]
          },
          "metadata": {
            "tags": []
          },
          "execution_count": 19
        }
      ]
    },
    {
      "cell_type": "code",
      "metadata": {
        "colab": {
          "base_uri": "https://localhost:8080/",
          "height": 510
        },
        "id": "xtTOZ-WMrm6V",
        "outputId": "f3e6585c-8146-481d-e469-299974854977"
      },
      "source": [
        "print(wine_df['quality'].value_counts())\n",
        "\n",
        "fig = plt.figure(figsize=(10,6))\n",
        "sns.countplot(wine_df['quality'])"
      ],
      "execution_count": null,
      "outputs": [
        {
          "output_type": "stream",
          "text": [
            "0    1382\n",
            "1     217\n",
            "Name: quality, dtype: int64\n"
          ],
          "name": "stdout"
        },
        {
          "output_type": "stream",
          "text": [
            "/usr/local/lib/python3.7/dist-packages/seaborn/_decorators.py:43: FutureWarning: Pass the following variable as a keyword arg: x. From version 0.12, the only valid positional argument will be `data`, and passing other arguments without an explicit keyword will result in an error or misinterpretation.\n",
            "  FutureWarning\n"
          ],
          "name": "stderr"
        },
        {
          "output_type": "execute_result",
          "data": {
            "text/plain": [
              "<matplotlib.axes._subplots.AxesSubplot at 0x7f76b04ef090>"
            ]
          },
          "metadata": {
            "tags": []
          },
          "execution_count": 20
        },
        {
          "output_type": "display_data",
          "data": {
            "image/png": "[encoded data removed]",
            "text/plain": [
              "<Figure size 720x432 with 1 Axes>"
            ]
          },
          "metadata": {
            "tags": [],
            "needs_background": "light"
          }
        }
      ]
    },
    {
      "cell_type": "code",
      "metadata": {
        "id": "JzNOmtWarp8Q"
      },
      "source": [
        "#Seperating to Dependant and Independant Variables\n",
        "\n",
        "x = wine_df.iloc[:,:-1].values\n",
        "y = wine_df.iloc[:,-1].values"
      ],
      "execution_count": null,
      "outputs": []
    },
    {
      "cell_type": "code",
      "metadata": {
        "colab": {
          "base_uri": "https://localhost:8080/"
        },
        "id": "JeTSpmAWrp_X",
        "outputId": "729fd652-22cf-49da-f5a2-1abef844a8d7"
      },
      "source": [
        "#Splitting into train and test sets\n",
        "\n",
        "x_train,x_test,y_train,y_test = train_test_split(x,y,test_size = 0.2,random_state = 42)\n",
        "\n",
        "print(\"X-train Shape: \",x_train.shape)\n",
        "print(\"X-test Shape: \",x_test.shape)\n",
        "print(\"Y-train Shape: \",y_train.shape)\n",
        "print(\"Y-test Shape: \",y_test.shape)"
      ],
      "execution_count": null,
      "outputs": [
        {
          "output_type": "stream",
          "text": [
            "X-train Shape:  (1279, 11)\n",
            "X-test Shape:  (320, 11)\n",
            "Y-train Shape:  (1279,)\n",
            "Y-test Shape:  (320,)\n"
          ],
          "name": "stdout"
        }
      ]
    },
    {
      "cell_type": "code",
      "metadata": {
        "id": "4S2mQjKwrqC3"
      },
      "source": [
        "# applying the standard scaling to the dataset to scale all the field values to same scale(approx.)\n",
        "sc = StandardScaler()\n",
        "\n",
        "x_train = sc.fit_transform(x_train)\n",
        "x_test = sc.fit_transform(x_test)"
      ],
      "execution_count": null,
      "outputs": []
    },
    {
      "cell_type": "markdown",
      "metadata": {
        "id": "ofrnHasBvBNP"
      },
      "source": [
        "#Creating ML Algorithms"
      ]
    },
    {
      "cell_type": "markdown",
      "metadata": {
        "id": "lqMrw-uvvXW1"
      },
      "source": [
        "###(1) Random Forest Classifier"
      ]
    },
    {
      "cell_type": "code",
      "metadata": {
        "id": "dwYo6Q6trqF7"
      },
      "source": [
        "#Creating Random Forest Classifier Instance\n",
        "\n",
        "rf_regressor = RandomForestClassifier(n_estimators=100)\n",
        "\n",
        "#Fitting the classifier with training data\n",
        "rf_regressor.fit(x_train, y_train)\n",
        "\n",
        "# Predicting using classifier\n",
        "y_pred = rf_regressor.predict(x_test)"
      ],
      "execution_count": null,
      "outputs": []
    },
    {
      "cell_type": "code",
      "metadata": {
        "colab": {
          "base_uri": "https://localhost:8080/",
          "height": 323
        },
        "id": "-fFnKb0vrqIg",
        "outputId": "c1308dfe-b687-4977-975c-beb6b7068628"
      },
      "source": [
        "#Confusion matrix using Random Forest Classifier\n",
        "cm = confusion_matrix(y_test,y_pred)\n",
        "print(cm)\n",
        "\n",
        "#Matplot for confusion matrix for Random Forest Classifier\n",
        "fig = plt.figure(figsize=(10,6))\n",
        "plt.matshow(cm,cmap = plt.cm.binary,interpolation = 'nearest')\n",
        "plt.title(\"Confusion  Matrix - Rnadom Forest Classifier\\n\")\n",
        "plt.colorbar()\n",
        "plt.ylabel(\"Expected Label\")\n",
        "plt.xlabel(\"Predicted Label\")\n",
        "plt.show()\n"
      ],
      "execution_count": null,
      "outputs": [
        {
          "output_type": "stream",
          "text": [
            "[[262  11]\n",
            " [ 28  19]]\n"
          ],
          "name": "stdout"
        },
        {
          "output_type": "display_data",
          "data": {
            "text/plain": [
              "<Figure size 720x432 with 0 Axes>"
            ]
          },
          "metadata": {
            "tags": []
          }
        },
        {
          "output_type": "display_data",
          "data": {
            "image/png": "[encoded data removed]",
            "text/plain": [
              "<Figure size 288x288 with 2 Axes>"
            ]
          },
          "metadata": {
            "tags": [],
            "needs_background": "light"
          }
        }
      ]
    },
    {
      "cell_type": "code",
      "metadata": {
        "colab": {
          "base_uri": "https://localhost:8080/"
        },
        "id": "D6OybBFkyFr_",
        "outputId": "aece8702-9627-4ec4-9f38-d5f926a613d9"
      },
      "source": [
        "print(\"Total Predictions : \",len(y_pred))\n",
        "print(\"Correct Predictions : \",sum(y_pred == y_test))\n",
        "print(\"Incorrect Predictions : \",sum(y_pred != y_test))\n",
        "print(\"Accuracy : \",sum(y_pred == y_test)*100 / len(y_pred), \"%\")"
      ],
      "execution_count": null,
      "outputs": [
        {
          "output_type": "stream",
          "text": [
            "Total Predictions :  320\n",
            "Correct Predictions :  281\n",
            "Incorrect Predictions :  39\n",
            "Accuracy :  87.8125 %\n"
          ],
          "name": "stdout"
        }
      ]
    },
    {
      "cell_type": "markdown",
      "metadata": {
        "id": "WCsgupHgzXI1"
      },
      "source": [
        "###(2) Support Vector Classifier"
      ]
    },
    {
      "cell_type": "code",
      "metadata": {
        "id": "7rTxk2VRzFwj"
      },
      "source": [
        "#Support Vector Classifier Instance\n",
        "svc_regressor = SVC()\n",
        "\n",
        "#Fitting training data to support vector classifier\n",
        "svc_regressor.fit(x_train,y_train)\n",
        "\n",
        "#Predicting using support vector classifier\n",
        "y_pred = svc_regressor.predict(x_test)"
      ],
      "execution_count": null,
      "outputs": []
    },
    {
      "cell_type": "code",
      "metadata": {
        "colab": {
          "base_uri": "https://localhost:8080/",
          "height": 323
        },
        "id": "g7tt9Njt0Wkp",
        "outputId": "5d15b635-6403-4537-da7f-0e301ad1b792"
      },
      "source": [
        "#Confusion matrix using Random Forest Classifier\n",
        "cm = confusion_matrix(y_test,y_pred)\n",
        "print(cm)\n",
        "\n",
        "#Matplot for confusion matrix for Random Forest Classifier\n",
        "fig = plt.figure(figsize=(10,6))\n",
        "plt.matshow(cm,cmap = plt.cm.binary,interpolation = 'nearest')\n",
        "plt.title(\"Confusion  Matrix - Support Vector Classifier\\n\")\n",
        "plt.colorbar()\n",
        "plt.ylabel(\"Expected Label\")\n",
        "plt.xlabel(\"Predicted Label\")\n",
        "plt.show()"
      ],
      "execution_count": null,
      "outputs": [
        {
          "output_type": "stream",
          "text": [
            "[[268   5]\n",
            " [ 35  12]]\n"
          ],
          "name": "stdout"
        },
        {
          "output_type": "display_data",
          "data": {
            "text/plain": [
              "<Figure size 720x432 with 0 Axes>"
            ]
          },
          "metadata": {
            "tags": []
          }
        },
        {
          "output_type": "display_data",
          "data": {
            "image/png": "[encoded data removed]",
            "text/plain": [
              "<Figure size 288x288 with 2 Axes>"
            ]
          },
          "metadata": {
            "tags": [],
            "needs_background": "light"
          }
        }
      ]
    },
    {
      "cell_type": "code",
      "metadata": {
        "colab": {
          "base_uri": "https://localhost:8080/"
        },
        "id": "MXxkz2QQ0esW",
        "outputId": "6cbb3d46-8f3c-48ec-c6e7-187132f38e47"
      },
      "source": [
        "print(\"Total Predictions : \",len(y_pred))\n",
        "print(\"Correct Predictions : \",sum(y_pred == y_test))\n",
        "print(\"Incorrect Predictions : \",sum(y_pred != y_test))\n",
        "print(\"Accuracy : \",sum(y_pred == y_test)*100 / len(y_pred), \"%\")"
      ],
      "execution_count": null,
      "outputs": [
        {
          "output_type": "stream",
          "text": [
            "Total Predictions :  320\n",
            "Correct Predictions :  280\n",
            "Incorrect Predictions :  40\n",
            "Accuracy :  87.5 %\n"
          ],
          "name": "stdout"
        }
      ]
    },
    {
      "cell_type": "markdown",
      "metadata": {
        "id": "Afaet_Ft1Iuj"
      },
      "source": [
        "###Tuning Random Forest ML Model"
      ]
    },
    {
      "cell_type": "code",
      "metadata": {
        "colab": {
          "base_uri": "https://localhost:8080/"
        },
        "id": "0SpyvOUF00_8",
        "outputId": "f70fc54f-515d-4183-f6e5-ebcb73a86961"
      },
      "source": [
        "rf_eval = cross_val_score(estimator = rf_regressor, X = x_train,y = y_train,cv = 10)\n",
        "rf_eval.mean()\n"
      ],
      "execution_count": null,
      "outputs": [
        {
          "output_type": "execute_result",
          "data": {
            "text/plain": [
              "0.9101131889763779"
            ]
          },
          "metadata": {
            "tags": []
          },
          "execution_count": 35
        }
      ]
    },
    {
      "cell_type": "markdown",
      "metadata": {
        "id": "BKt-llcq2-Iw"
      },
      "source": [
        "#RESULTS\n",
        "\n",
        "\n",
        "1.   I created an ML Classifier for classifying wine into good and bad\n",
        "2.   The SVM gave us an acuuracy of 87.5%\n",
        "3.   The Random Forest gave us a higher accuracy of 87.8%.\n",
        "4.   The best accuracy after tuning the Random Forest model is 91%.\n",
        "\n"
      ]
    }
  ]
}